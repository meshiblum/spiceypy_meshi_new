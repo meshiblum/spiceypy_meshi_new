{
 "cells": [
  {
   "cell_type": "code",
   "execution_count": null,
   "metadata": {},
   "outputs": [],
   "source": [
    "import numpy as np\n",
    "from scipy.integrate import solve_ivp\n",
    "import matplotlib.pyplot as plt\n",
    "#import mpl_toolkits\n",
    "from mpl_toolkits.mplot3d import Axes3D \n",
    "import spiceypy as spice"
   ]
  },
  {
   "cell_type": "code",
   "execution_count": null,
   "metadata": {},
   "outputs": [],
   "source": [
    "spice.furnsh(\"./cassMetaK.txt\")\n",
    "\n",
    "step = 4000\n",
    "# we are going to get positions between these two dates\n",
    "utc = ['Jun 20, 2004', 'Dec 1, 2005'] # will iteratively need to be changed\n",
    "\n",
    "# get et values one and two, we could vectorize str2et\n",
    "etOne = spice.str2et(utc[0])\n",
    "etTwo = spice.str2et(utc[1])\n",
    "print(\"ET One: {}, ET Two: {}\".format(etOne, etTwo))\n",
    "\n",
    "# get times\n",
    "times = [x*(etTwo-etOne)/step + etOne for x in range(step)]\n",
    "\n",
    "# check first few times:\n",
    "print(times[0:3])\n",
    "\n",
    "#Run spkpos as a vectorized function\n",
    "positions, lightTimes = spice.spkpos('Cassini', times, 'J2000', 'NONE', 'SATURN BARYCENTER')\n",
    "\n",
    "# Positions is a 3xN vector of XYZ positions\n",
    "print(\"Positions: \")\n",
    "print(positions[0])\n",
    "\n",
    "# Light times is a N vector of time\n",
    "print(\"Light Times: \")\n",
    "print(lightTimes[0])\n",
    "\n",
    "spice.kclear()\n",
    "\n",
    "positions = positions.T # positions is shaped (4000, 3), let's transpose to (3, 4000) for easier indexing\n",
    "fig = plt.figure(figsize=(9, 9))\n",
    "ax  = fig.add_subplot(111, projection='3d')\n",
    "ax.plot(positions[0], positions[1], positions[2])\n",
    "plt.title('SpiceyPy Cassini Position Example from Jun 20, 2004 to Dec 1, 2005')\n",
    "plt.show()"
   ]
  }
 ],
 "metadata": {
  "language_info": {
   "name": "python"
  }
 },
 "nbformat": 4,
 "nbformat_minor": 2
}
